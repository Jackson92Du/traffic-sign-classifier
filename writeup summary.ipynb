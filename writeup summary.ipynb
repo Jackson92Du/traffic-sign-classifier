{
 "cells": [
  {
   "cell_type": "markdown",
   "metadata": {},
   "source": [
    "# **Traffic Sign Recognition** "
   ]
  },
  {
   "cell_type": "markdown",
   "metadata": {},
   "source": [
    "**Build a Traffic Sign Recognition Project**"
   ]
  },
  {
   "cell_type": "markdown",
   "metadata": {},
   "source": [
    "The goals / steps of this project are the following:\n",
    "* Load the data set (see below for links to the project data set)\n",
    "* Explore, summarize and visualize the data set\n",
    "* Design, train and test a model architecture\n",
    "* Use the model to make predictions on new images\n",
    "* Analyze the softmax probabilities of the new images\n",
    "* Summarize the results with a written report"
   ]
  },
  {
   "cell_type": "markdown",
   "metadata": {},
   "source": [
    "\n",
    "### Data Set Summary & Exploration\n",
    "\n",
    "#### 1. Provide a basic summary of the data set.\n",
    "\n",
    "I used the numpy library to calculate summary statistics of the traffic\n",
    "signs data set:\n",
    "\n",
    "* The size of training set is 34799\n",
    "* The size of the validation set is 4410\n",
    "* The size of test set is 12630\n",
    "* The shape of a traffic sign image is (32,32,3)\n",
    "* The number of unique classes/labels in the data set is 43"
   ]
  },
  {
   "cell_type": "markdown",
   "metadata": {},
   "source": [
    "#### 2. Include an exploratory visualization of the dataset.\n",
    "\n",
    "Here is an exploratory visualization of the data set. It is a histogram showing how the data are distributed\n",
    "![alt text](./writeup/hist.png \"Title\")\n"
   ]
  },
  {
   "cell_type": "markdown",
   "metadata": {},
   "source": [
    "### Design and Test a Model Architecture\n",
    "\n",
    "#### 1. Describe how you preprocessed the image data. What techniques were chosen and why did you choose these techniques? Consider including images showing the output of each preprocessing technique. Pre-processing refers to techniques such as converting to grayscale, normalization, etc. (OPTIONAL: As described in the \"Stand Out Suggestions\" part of the rubric, if you generated additional data for training, describe why you decided to generate additional data, how you generated the data, and provide example images of the additional data. Then describe the characteristics of the augmented training set like number of images in the set, number of images for each class, etc.)\n",
    "\n",
    "\n",
    "Because the distribution of the training data is not even, some of the labels have very low amount, I didn't fix this at the first time, and later I came back to fix this to improve the performance. For those labels less than 1000, I generate additional data by small random perturbation of the image like random translate and random warp. As a result, the minimum number of labels is 1000. Actually it significantly increase the accuracy of the validation set. Then augmented data has the following distribution.\n",
    "![alt text](./writeup/transform_distribution.png \"Title\")\n",
    "\n",
    "I also did the simple preprocessing techniques like converting to grayscale and normalization ((image-128)/128)."
   ]
  },
  {
   "cell_type": "markdown",
   "metadata": {},
   "source": [
    "#### 2. Describe what your final model architecture looks like including model type, layers, layer sizes, connectivity, etc.) Consider including a diagram and/or table describing the final model.\n",
    "\n",
    "My final model consisted of the following layers:\n",
    "\n",
    "| Layer         \t\t|     Description\t        \t\t\t\t\t| \n",
    "|:---------------------:|:---------------------------------------------:| \n",
    "| Input         \t\t| 32x32x1 grayscale image   \t\t\t\t    | \n",
    "| Convolution 5x5     \t| 2x2 stride, valid padding, outputs 28x28x6 \t|\n",
    "| RELU\t\t\t\t\t|\t\t\t\t\t\t\t\t\t\t\t\t|\n",
    "| Max pooling\t      \t| 2x2 stride,  outputs 14x14x6 \t\t\t\t    |\n",
    "| Convolution 5x5\t    | 2x2 stride, valid padding, outputs 10x10x16   |\n",
    "| RELU\t\t            |        \t\t\t\t\t\t\t\t\t    |\n",
    "| Max polling\t\t\t| 2x2 stride,  outputs 5x5x16        \t\t\t|\n",
    "| Flatten\t\t\t\t|\t\t\t\t\t\t\t\t\t\t\t\t|\n",
    "| Fully connected\t\t| input 400, output 120\t\t\t\t\t\t\t|\n",
    "| RELU                  |                                               |\n",
    "| Dropout               | keep probability: 0.5                         |\n",
    "| Fully connected       | input 120, output 84                          |\n",
    "| Dropout               | keep probability: 0.5                         |\n",
    "| Fully connected       | input 84, output 43                           |"
   ]
  },
  {
   "cell_type": "markdown",
   "metadata": {},
   "source": [
    "#### 3. Describe how you trained your model. The discussion can include the type of optimizer, the batch size, number of epochs and any hyperparameters such as learning rate.\n",
    "\n",
    "To train the model, I used the LeNet mostly given by the course, but I add dropout layers in first and second fully connected layers. I used the AdamOptimizer with a learning rate of 0.0009. The epochs and batch size are 20 and 128.\n",
    "\n",
    "#### 4. Describe the approach taken for finding a solution and getting the validation set accuracy to be at least 0.93. Include in the discussion the results on the training, validation and test sets and where in the code these were calculated. Your approach may have been an iterative process, in which case, outline the steps you took to get to the final solution and why you chose those steps. Perhaps your solution involved an already well known implementation or architecture. In this case, discuss why you think the architecture is suitable for the current problem.\n",
    "\n",
    "My final model results were:\n",
    "* training set accuracy of 0.993\n",
    "* validation set accuracy of 0.970 \n",
    "* test set accuracy of 0.941\n",
    "\n",
    "If an iterative approach was chosen:\n",
    "* What was the first architecture that was tried and why was it chosen?\n",
    "  my first architecture is the original lenet without dropout\n",
    "* What were some problems with the initial architecture?\n",
    "  the training accuracy were very high, but the validation accuracy is not high.\n",
    "* How was the architecture adjusted and why was it adjusted?\n",
    "  Because the difference between training and validation accuracy shows there's overfitting, so either I would normalize the parameter or use dropout technique, so added droput layer in the first and second fully connected layer with keep probability to be 0.5\n",
    "* Which parameters were tuned? How were they adjusted and why?\n",
    "  The learning rate changed from 0.001 to 0.0009, because I thought a smaller learning rate can increase the learning speed some time. Also the batch size changed from 10 to 30, because I saw the accuracy is still increasing.\n",
    "* What are some of the important design choices and why were they chosen? For example, why might a convolution layer work well with this problem? How might a dropout layer help with creating a successful model?\n",
    "  I think the most important design here is to generate more training data, because the original unbalanced data will bias to those big classes, and will affect the performance on the small classes, with out this step, the validation accuracy was fluctuating around 0.93 even I increased the epochs to 100."
   ]
  },
  {
   "cell_type": "markdown",
   "metadata": {},
   "source": [
    "### Test a Model on New Images\n",
    "\n",
    "#### 1. Choose five German traffic signs found on the web and provide them in the report. For each image, discuss what quality or qualities might be difficult to classify.\n",
    "\n",
    "Here are five German traffic signs that I found on the web:\n",
    "\n",
    "![alt text](./webimages/1.png \"Title\") ![alt text](./webimages/2.png \"Title\") ![alt text](./webimages/3.png \"Title\") \n",
    "![alt text](./webimages/4.png \"Title\") ![alt text](./webimages/5.png \"Title\")\n",
    "\n",
    "\n",
    "#### 2. Discuss the model's predictions on these new traffic signs and compare the results to predicting on the test set. At a minimum, discuss what the predictions were, the accuracy on these new predictions, and compare the accuracy to the accuracy on the test set (OPTIONAL: Discuss the results in more detail as described in the \"Stand Out Suggestions\" part of the rubric).\n",
    "\n",
    "Here are the results of the prediction:\n",
    "\n",
    "| Image\t\t\t        |     Prediction\t        \t\t\t\t\t| \n",
    "|:---------------------:|:---------------------------------------------:| \n",
    "| Speed limit (30km/h)  | Stop sign   \t\t\t\t\t\t\t\t\t| \n",
    "| Bumpy road     \t\t| Bumpy road \t\t\t\t\t\t\t\t\t|\n",
    "| Ahead only\t\t\t| Ahead only\t\t\t\t\t\t\t\t\t|\n",
    "| No vehicles\t      \t| Speed limit (30km/h)\t\t\t\t\t \t\t|\n",
    "| Go straight or left\t| Go straight or left     \t\t\t\t\t\t|\n",
    "\n",
    "The accuracy here is only 0.8 when I run on workspace, the forth one failed to ditect the white in circle.\n",
    "\n",
    "Actually the model correctly guess all the 5 traffic signs when running locally in my machine, which gives an accuracy of 100%, I don't get why it predicted the forth image wrong here.\n",
    "\n",
    "#### 3. Describe how certain the model is when predicting on each of the five new images by looking at the softmax probabilities for each prediction. Provide the top 5 softmax probabilities for each image along with the sign type of each probability. (OPTIONAL: as described in the \"Stand Out Suggestions\" part of the rubric, visualizations can also be provided such as bar charts)\n",
    "\n",
    "The code for making predictions on my final model is located in the 11th cell of the Ipython notebook.\n",
    "\n",
    "For the first image, the model is quite sure that this is a speed limit (30km/h) (probability of 1.0). The top five soft max probabilities were\n",
    "\n",
    "| Probability         \t|     Prediction\t        \t\t\t\t\t| \n",
    "|:---------------------:|:---------------------------------------------:| \n",
    "| 1.0         \t\t\t| Speed limit (30km/h)   \t\t\t\t\t\t| \n",
    "| 0.0     \t\t\t\t| Speed limit (20km/h)\t\t\t\t\t\t\t|\n",
    "| 0.0\t\t\t\t\t| Speed limit (70km/h)\t\t\t\t\t\t\t|\n",
    "| 0.0\t      \t\t\t| Speed limit (50km/h)\t\t\t\t\t\t\t|\n",
    "| 0.0\t\t\t\t    | Go straight or left      \t\t\t\t     \t|\n",
    "\n",
    "\n",
    "For the second image, the model is quite sure that this is a Bumpy road (probability of 1.0). The top five soft max probabilities were  \n",
    "\n",
    "| Probability         \t|     Prediction\t        \t\t\t\t\t| \n",
    "|:---------------------:|:---------------------------------------------:| \n",
    "| 1.0         \t\t\t| Bumpy road   \t\t\t\t\t\t\t\t\t| \n",
    "| 0.0     \t\t\t\t| Bicycles crossing \t\t\t\t\t\t\t|\n",
    "| 0.0\t\t\t\t\t| Road work\t\t\t\t\t\t\t\t\t\t|\n",
    "| 0.0\t      \t\t\t| No vehicles\t\t\t\t\t \t\t\t\t|\n",
    "| 0.0\t\t\t\t    | Yield      \t\t\t\t\t\t\t        |\n",
    "\n",
    "For the third image, the model is quite sure that this is a Ahead only (probability of 1.0). The top five soft max probabilities were  \n",
    "\n",
    "| Probability         \t|     Prediction\t        \t\t\t\t\t| \n",
    "|:---------------------:|:---------------------------------------------:| \n",
    "| 1.0         \t\t\t| Ahead only   \t\t\t\t\t\t\t\t\t| \n",
    "| 0.0     \t\t\t\t| Turn left ahead \t\t\t\t\t\t\t\t|\n",
    "| 0.0\t\t\t\t\t| Speed limit (60km/h)\t\t\t\t\t\t\t|\n",
    "| 0.0\t      \t\t\t| No vehicles\t\t\t\t\t \t\t\t\t|\n",
    "| 0.0\t\t\t\t    | No passing      \t\t\t\t\t\t\t    |\n",
    "\n",
    "For the forth image, the model didn't predict it correctly (probability of 0.24), and not sure of any prediction. The top five soft max probabilities were \n",
    "\n",
    "| Probability         \t|     Prediction\t        \t\t\t\t\t| \n",
    "|:---------------------:|:---------------------------------------------:| \n",
    "| 0.24         \t\t\t| Speed limit (30km/h)  \t\t\t\t\t\t| \n",
    "| 0.20     \t\t\t\t| Roundabout mandatory \t\t\t\t\t\t\t|\n",
    "| 0.09\t\t\t\t\t| Speed limit (20km/h)\t\t\t\t\t\t\t|\n",
    "| 0.09\t      \t\t\t| Traffic signals\t\t\t\t\t \t\t\t|\n",
    "| 0.37\t\t\t\t    | Speed limit (50km/h)      \t\t\t\t\t|\n",
    "\n",
    "For the fifth image, the model is quite sure that this is a Go straight or left (probability of 1.0). The top five soft max probabilities were   \n",
    "\n",
    "| Probability         \t|     Prediction\t        \t\t\t\t\t| \n",
    "|:---------------------:|:---------------------------------------------:| \n",
    "| 1.00         \t\t\t| Go straight or left   \t\t\t\t\t\t| \n",
    "| 0.00     \t\t\t\t| Roundabout mandatory\t\t\t\t\t\t\t|\n",
    "| 0.00\t\t\t\t\t| Speed limit (20km/h)\t\t\t\t\t\t\t|\n",
    "| 0.00\t      \t\t\t| Keep left\t\t\t\t\t \t\t\t\t    |\n",
    "| 0.00\t\t\t\t    | Traffic signals     \t\t\t\t\t\t\t|\n"
   ]
  },
  {
   "cell_type": "code",
   "execution_count": null,
   "metadata": {},
   "outputs": [],
   "source": []
  }
 ],
 "metadata": {
  "kernelspec": {
   "display_name": "Python 3",
   "language": "python",
   "name": "python3"
  },
  "language_info": {
   "codemirror_mode": {
    "name": "ipython",
    "version": 3
   },
   "file_extension": ".py",
   "mimetype": "text/x-python",
   "name": "python",
   "nbconvert_exporter": "python",
   "pygments_lexer": "ipython3",
   "version": "3.6.3"
  }
 },
 "nbformat": 4,
 "nbformat_minor": 2
}
